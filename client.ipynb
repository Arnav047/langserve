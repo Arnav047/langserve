{
 "cells": [
  {
   "cell_type": "code",
   "execution_count": 1,
   "id": "5bf3aae3",
   "metadata": {},
   "outputs": [
    {
     "name": "stderr",
     "output_type": "stream",
     "text": [
      "2025-01-31 15:35:26.095 WARNING streamlit.runtime.scriptrunner_utils.script_run_context: Thread 'MainThread': missing ScriptRunContext! This warning can be ignored when running in bare mode.\n",
      "2025-01-31 15:35:27.107 \n",
      "  \u001b[33m\u001b[1mWarning:\u001b[0m to view this Streamlit app on a browser, run it with the following\n",
      "  command:\n",
      "\n",
      "    streamlit run C:\\Users\\ADMIN\\myenv\\Lib\\site-packages\\ipykernel_launcher.py [ARGUMENTS]\n",
      "2025-01-31 15:35:27.108 Thread 'MainThread': missing ScriptRunContext! This warning can be ignored when running in bare mode.\n",
      "2025-01-31 15:35:27.110 Thread 'MainThread': missing ScriptRunContext! This warning can be ignored when running in bare mode.\n",
      "2025-01-31 15:35:27.111 Thread 'MainThread': missing ScriptRunContext! This warning can be ignored when running in bare mode.\n",
      "2025-01-31 15:35:27.113 Thread 'MainThread': missing ScriptRunContext! This warning can be ignored when running in bare mode.\n",
      "2025-01-31 15:35:27.118 Thread 'MainThread': missing ScriptRunContext! This warning can be ignored when running in bare mode.\n",
      "2025-01-31 15:35:27.120 Session state does not function when running a script without `streamlit run`\n",
      "2025-01-31 15:35:27.121 Thread 'MainThread': missing ScriptRunContext! This warning can be ignored when running in bare mode.\n",
      "2025-01-31 15:35:27.121 Thread 'MainThread': missing ScriptRunContext! This warning can be ignored when running in bare mode.\n",
      "2025-01-31 15:35:27.121 Thread 'MainThread': missing ScriptRunContext! This warning can be ignored when running in bare mode.\n",
      "2025-01-31 15:35:27.121 Thread 'MainThread': missing ScriptRunContext! This warning can be ignored when running in bare mode.\n",
      "2025-01-31 15:35:27.121 Thread 'MainThread': missing ScriptRunContext! This warning can be ignored when running in bare mode.\n",
      "2025-01-31 15:35:27.121 Thread 'MainThread': missing ScriptRunContext! This warning can be ignored when running in bare mode.\n",
      "2025-01-31 15:35:27.137 Thread 'MainThread': missing ScriptRunContext! This warning can be ignored when running in bare mode.\n",
      "2025-01-31 15:35:27.138 Thread 'MainThread': missing ScriptRunContext! This warning can be ignored when running in bare mode.\n"
     ]
    }
   ],
   "source": [
    "import requests\n",
    "import streamlit as st\n",
    "\n",
    "def get_openai_response(input_text):\n",
    "    response=requests.post(\"http://localhost:8000/essay/invoke\",\n",
    "    json={'input':{'topic':input_text}})\n",
    "\n",
    "    return response.json()['output']['content']\n",
    "\n",
    "def get_ollama_response(input_text):\n",
    "    response=requests.post(\n",
    "    \"http://localhost:8000/poem/invoke\",\n",
    "    json={'input':{'topic':input_text}})\n",
    "\n",
    "    return response.json()['output']\n",
    "\n",
    "    ## streamlit framework\n",
    "\n",
    "st.title('Langchain Demo With LLAMA2 API')\n",
    "input_text=st.text_input(\"Write an essay on\")\n",
    "input_text1=st.text_input(\"Write a poem on\")\n",
    "\n",
    "if input_text:\n",
    "    st.write(get_openai_response(input_text))\n",
    "\n",
    "if input_text1:\n",
    "    st.write(get_ollama_response(input_text1))"
   ]
  },
  {
   "cell_type": "code",
   "execution_count": null,
   "id": "a5422bec",
   "metadata": {},
   "outputs": [],
   "source": []
  }
 ],
 "metadata": {
  "kernelspec": {
   "display_name": "Python newENV",
   "language": "python",
   "name": "myenv"
  },
  "language_info": {
   "codemirror_mode": {
    "name": "ipython",
    "version": 3
   },
   "file_extension": ".py",
   "mimetype": "text/x-python",
   "name": "python",
   "nbconvert_exporter": "python",
   "pygments_lexer": "ipython3",
   "version": "3.11.0"
  }
 },
 "nbformat": 4,
 "nbformat_minor": 5
}
